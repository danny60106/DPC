{
 "cells": [
  {
   "cell_type": "code",
   "execution_count": 8,
   "metadata": {},
   "outputs": [
    {
     "name": "stdout",
     "output_type": "stream",
     "text": [
      "請輸入數字:66\n",
      "小於等於100\n"
     ]
    }
   ],
   "source": [
    "#判斷式\n",
    "x = input(\"請輸入數字:\") #取得字串形式的使用者輸入\n",
    "x = int(x) #將字串型態轉換成數字型態\n",
    "if x>200:\n",
    "    print(\"大於200\")\n",
    "elif x>100: \n",
    "    print(\"大於100，小於等於200\")\n",
    "else:\n",
    "    print(\"小於等於100\")"
   ]
  },
  {
   "cell_type": "code",
   "execution_count": 11,
   "metadata": {},
   "outputs": [
    {
     "name": "stdout",
     "output_type": "stream",
     "text": [
      "請輸入數字1:6\n",
      "請輸入數字2:9\n",
      "15\n"
     ]
    }
   ],
   "source": [
    "#四則運算\n",
    "n1 = int(input(\"請輸入數字1:\"))\n",
    "n2 = int(input(\"請輸入數字2:\"))\n",
    "print(n1+n2)"
   ]
  },
  {
   "cell_type": "code",
   "execution_count": 14,
   "metadata": {},
   "outputs": [
    {
     "name": "stdout",
     "output_type": "stream",
     "text": [
      "請輸入數字1:9\n",
      "請輸入數字2:6\n",
      "請輸入運算: +,-,*,/:*\n",
      "54\n"
     ]
    }
   ],
   "source": [
    "n1 = int(input(\"請輸入數字1:\"))\n",
    "n2 = int(input(\"請輸入數字2:\"))\n",
    "op = input(\"請輸入運算: +,-,*,/: \")\n",
    "if op==\"+\":\n",
    "    print(n1+n2)\n",
    "elif op==\"-\":\n",
    "    print(n1-n2)\n",
    "elif op==\"*\":\n",
    "    print(n1*n2)\n",
    "elif op==\"/\":\n",
    "    print(n1/n2)\n",
    "else:\n",
    "    print(\"不支援的運算\")"
   ]
  },
  {
   "cell_type": "code",
   "execution_count": null,
   "metadata": {},
   "outputs": [],
   "source": []
  }
 ],
 "metadata": {
  "kernelspec": {
   "display_name": "Python 3",
   "language": "python",
   "name": "python3"
  },
  "language_info": {
   "codemirror_mode": {
    "name": "ipython",
    "version": 3
   },
   "file_extension": ".py",
   "mimetype": "text/x-python",
   "name": "python",
   "nbconvert_exporter": "python",
   "pygments_lexer": "ipython3",
   "version": "3.6.5"
  }
 },
 "nbformat": 4,
 "nbformat_minor": 2
}
