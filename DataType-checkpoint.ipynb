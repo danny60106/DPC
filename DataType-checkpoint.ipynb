{
 "cells": [
  {
   "cell_type": "code",
   "execution_count": 5,
   "metadata": {},
   "outputs": [
    {
     "name": "stdout",
     "output_type": "stream",
     "text": [
      "3\n",
      "True\n"
     ]
    }
   ],
   "source": [
    "#資料: 程式的基本單位\n",
    "\n",
    "#數字\n",
    "3456\n",
    "\n",
    "#浮點數\n",
    "3.5\n",
    "\n",
    "#字串\n",
    "\"測試\"\n",
    "\"Hello\"\n",
    "\n",
    "#布林值\n",
    "True \n",
    "False\n",
    "\n",
    "#有順序、可變動的列表 List\n",
    "[3,4,5]\n",
    "[\"Hello\",\"World\"]\n",
    "\n",
    "#有順序、不可動的列表 Tuple\n",
    "(3,4,5)\n",
    "(\"Hello\",\"World\")\n",
    "\n",
    "#集合 set\n",
    "{3,4,5}\n",
    "{\"Hello\",\"World\"}\n",
    "\n",
    "#字典 Dictionary\n",
    "{\"apple\":\"蘋果\",\"data\":\"資料\"}\n",
    "\n",
    "#變數:用來儲存資料的自訂名稱\n",
    "#變數名稱=資料\n",
    "x=3\n",
    "#print(data)\n",
    "print(x)\n",
    "x=True #取代舊data\n",
    "print(x)"
   ]
  },
  {
   "cell_type": "code",
   "execution_count": null,
   "metadata": {},
   "outputs": [],
   "source": []
  }
 ],
 "metadata": {
  "kernelspec": {
   "display_name": "Python 3",
   "language": "python",
   "name": "python3"
  },
  "language_info": {
   "codemirror_mode": {
    "name": "ipython",
    "version": 3
   },
   "file_extension": ".py",
   "mimetype": "text/x-python",
   "name": "python",
   "nbconvert_exporter": "python",
   "pygments_lexer": "ipython3",
   "version": "3.6.5"
  }
 },
 "nbformat": 4,
 "nbformat_minor": 2
}
