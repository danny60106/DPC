{
 "cells": [
  {
   "cell_type": "code",
   "execution_count": 5,
   "metadata": {},
   "outputs": [
    {
     "name": "stdout",
     "output_type": "stream",
     "text": [
      "9\n",
      "1\n"
     ]
    }
   ],
   "source": [
    "#參數的預設資料\n",
    "def power(base,exp=0):\n",
    "    print(base**exp)\n",
    "power(3,2)\n",
    "power(4)"
   ]
  },
  {
   "cell_type": "code",
   "execution_count": 6,
   "metadata": {},
   "outputs": [
    {
     "name": "stdout",
     "output_type": "stream",
     "text": [
      "0.5\n",
      "2.0\n"
     ]
    }
   ],
   "source": [
    "#使用參數名稱對應\n",
    "def divide(n1,n2):\n",
    "    print(n1/n2)\n",
    "divide(2,4)\n",
    "divide(n2=2,n1=4)"
   ]
  },
  {
   "cell_type": "code",
   "execution_count": 8,
   "metadata": {},
   "outputs": [
    {
     "name": "stdout",
     "output_type": "stream",
     "text": [
      "3.5\n",
      "6.0\n",
      "-1.0\n"
     ]
    }
   ],
   "source": [
    "#無限/不定  參數資料\n",
    "def avg(*ns):\n",
    "    sum = 0\n",
    "    for n in ns:\n",
    "        sum+=n\n",
    "    print(sum/len(ns))\n",
    "    \n",
    "avg(3,4)\n",
    "avg(3,5,10)\n",
    "avg(1,4,-1,-8)  "
   ]
  },
  {
   "cell_type": "code",
   "execution_count": null,
   "metadata": {},
   "outputs": [],
   "source": []
  }
 ],
 "metadata": {
  "kernelspec": {
   "display_name": "Python 3",
   "language": "python",
   "name": "python3"
  },
  "language_info": {
   "codemirror_mode": {
    "name": "ipython",
    "version": 3
   },
   "file_extension": ".py",
   "mimetype": "text/x-python",
   "name": "python",
   "nbconvert_exporter": "python",
   "pygments_lexer": "ipython3",
   "version": "3.6.5"
  }
 },
 "nbformat": 4,
 "nbformat_minor": 2
}
