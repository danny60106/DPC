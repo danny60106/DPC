{
 "cells": [
  {
   "cell_type": "code",
   "execution_count": 7,
   "metadata": {},
   "outputs": [
    {
     "name": "stdout",
     "output_type": "stream",
     "text": [
      "62\n"
     ]
    }
   ],
   "source": [
    "#定義函式\n",
    "def multiply(n1, n2):\n",
    "\n",
    "    return n1*n2\n",
    "#呼叫函式\n",
    "value = multiply(3,4) + multiply(10,5)\n",
    "print(value)"
   ]
  },
  {
   "cell_type": "code",
   "execution_count": 10,
   "metadata": {},
   "outputs": [
    {
     "name": "stdout",
     "output_type": "stream",
     "text": [
      "55\n",
      "209\n",
      "264\n"
     ]
    }
   ],
   "source": [
    "#程式的包裝\n",
    "def calculate(min, max):\n",
    "    sum = 0\n",
    "    for n in range(min, max+1):\n",
    "        sum=sum+n\n",
    "    print(sum)\n",
    "    return sum\n",
    "    \n",
    "a = calculate(1,10)+ calculate(2,20)\n",
    "print(a)"
   ]
  },
  {
   "cell_type": "code",
   "execution_count": null,
   "metadata": {},
   "outputs": [],
   "source": []
  }
 ],
 "metadata": {
  "kernelspec": {
   "display_name": "Python 3",
   "language": "python",
   "name": "python3"
  },
  "language_info": {
   "codemirror_mode": {
    "name": "ipython",
    "version": 3
   },
   "file_extension": ".py",
   "mimetype": "text/x-python",
   "name": "python",
   "nbconvert_exporter": "python",
   "pygments_lexer": "ipython3",
   "version": "3.6.5"
  }
 },
 "nbformat": 4,
 "nbformat_minor": 2
}
