{
 "cells": [
  {
   "cell_type": "code",
   "execution_count": 7,
   "metadata": {},
   "outputs": [
    {
     "name": "stdout",
     "output_type": "stream",
     "text": [
      "[12, 60, 15, 70, 90]\n",
      "[60, 15, 70]\n",
      "[55, 60, 15, 70, 90]\n",
      "[55, 90]\n",
      "[55, 90, 12, 33]\n",
      "4\n"
     ]
    }
   ],
   "source": [
    "#有序可變動列表 List\n",
    "grades = [12,60,15,70,90]\n",
    "print(grades)\n",
    "print(grades[1:4]) #[1,2,3]\n",
    "\n",
    "grades[0] = 55  #更新列表資料\n",
    "print(grades)\n",
    "\n",
    "grades[1:4] = [] #刪除列表中從編號1到編號4之前的資料\n",
    "print(grades)\n",
    "\n",
    "grades =  grades + [12,33]\n",
    "print(grades)\n",
    "\n",
    "length = len(grades) #取得列表的長度len()\n",
    "print(length)\n",
    "\n"
   ]
  },
  {
   "cell_type": "code",
   "execution_count": 6,
   "metadata": {},
   "outputs": [
    {
     "name": "stdout",
     "output_type": "stream",
     "text": [
      "5\n",
      "[[5, 5, 5, 5], [6, 7, 8]]\n"
     ]
    }
   ],
   "source": [
    "data = [[3,4,5],[6,7,8]]\n",
    "data[0][0:2]=[5,5,5] #取代資料\n",
    "print(data[0][2]) #第1個列表裡的第2個索引\n",
    "print(data) "
   ]
  },
  {
   "cell_type": "code",
   "execution_count": 9,
   "metadata": {},
   "outputs": [
    {
     "name": "stdout",
     "output_type": "stream",
     "text": [
      "(3, 4)\n"
     ]
    }
   ],
   "source": [
    "#有序不可動列表 Tuple\n",
    "data = (3,4,5)\n",
    "#data[0] = 5 #錯誤:Tuple的資料不可變動\n",
    "print(data[0:2])"
   ]
  },
  {
   "cell_type": "code",
   "execution_count": null,
   "metadata": {},
   "outputs": [],
   "source": []
  }
 ],
 "metadata": {
  "kernelspec": {
   "display_name": "Python 3",
   "language": "python",
   "name": "python3"
  },
  "language_info": {
   "codemirror_mode": {
    "name": "ipython",
    "version": 3
   },
   "file_extension": ".py",
   "mimetype": "text/x-python",
   "name": "python",
   "nbconvert_exporter": "python",
   "pygments_lexer": "ipython3",
   "version": "3.6.5"
  }
 },
 "nbformat": 4,
 "nbformat_minor": 2
}
