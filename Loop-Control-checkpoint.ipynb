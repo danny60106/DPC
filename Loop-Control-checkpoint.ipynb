{
 "cells": [
  {
   "cell_type": "code",
   "execution_count": 3,
   "metadata": {},
   "outputs": [
    {
     "name": "stdout",
     "output_type": "stream",
     "text": [
      "0\n",
      "1\n",
      "2\n",
      "最後的n:  3\n"
     ]
    }
   ],
   "source": [
    "#break的簡易範例\n",
    "n=0\n",
    "while n<5:\n",
    "    if n==3:\n",
    "        break\n",
    "    print(n) #印出迴圈的n\n",
    "    n+=1\n",
    "print(\"最後的n: \",n) #印出迴圈結束後的n"
   ]
  },
  {
   "cell_type": "code",
   "execution_count": 2,
   "metadata": {},
   "outputs": [
    {
     "name": "stdout",
     "output_type": "stream",
     "text": [
      "1\n",
      "3\n",
      "最後的n:  2\n"
     ]
    }
   ],
   "source": [
    "#continue的簡易範例\n",
    "n=0 #count\n",
    "for x in [0,1,2,3]:\n",
    "    if x%2==0:    #x是偶數 x被2整除\n",
    "        continue\n",
    "    print(x)\n",
    "    n+=1\n",
    "print(\"最後的n: \",n)"
   ]
  },
  {
   "cell_type": "code",
   "execution_count": 5,
   "metadata": {},
   "outputs": [
    {
     "name": "stdout",
     "output_type": "stream",
     "text": [
      "55\n"
     ]
    }
   ],
   "source": [
    "#else的簡易範例\n",
    "sum = 0\n",
    "for n in range(11):\n",
    "    sum+=n\n",
    "else:\n",
    "    print(sum) #印出1+2+...+10的結果"
   ]
  },
  {
   "cell_type": "code",
   "execution_count": 6,
   "metadata": {},
   "outputs": [
    {
     "name": "stdout",
     "output_type": "stream",
     "text": [
      "輸入一個正整數: 121\n",
      "整數平方根 11\n"
     ]
    }
   ],
   "source": [
    "#綜合範例: 找出整數平方根\n",
    "#輸入9，得到3\n",
    "#輸入11，得到{沒有}整數的平方根\n",
    "n=input(\"輸入一個正整數: \")\n",
    "n=int(n) #轉換輸入成數字\n",
    "for i in range(n): # i從0~n-1\n",
    "    if i*i==n:\n",
    "        print(\"整數平方根\",i)\n",
    "        break #用break強制結束迴圈時，不會執行else區塊\n",
    "else:\n",
    "    print(\"沒有整數平方根\")"
   ]
  },
  {
   "cell_type": "code",
   "execution_count": null,
   "metadata": {},
   "outputs": [],
   "source": []
  }
 ],
 "metadata": {
  "kernelspec": {
   "display_name": "Python 3",
   "language": "python",
   "name": "python3"
  },
  "language_info": {
   "codemirror_mode": {
    "name": "ipython",
    "version": 3
   },
   "file_extension": ".py",
   "mimetype": "text/x-python",
   "name": "python",
   "nbconvert_exporter": "python",
   "pygments_lexer": "ipython3",
   "version": "3.6.5"
  }
 },
 "nbformat": 4,
 "nbformat_minor": 2
}
