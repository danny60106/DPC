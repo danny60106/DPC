{
 "cells": [
  {
   "cell_type": "code",
   "execution_count": 7,
   "metadata": {},
   "outputs": [],
   "source": [
    "import numpy as np\n",
    "from keras.utils import np_utils\n",
    "np.random.seed(10)\n",
    "from keras.datasets import mnist\n",
    "from keras.models import Sequential #匯入Sequential模組來建模\n",
    "from keras.layers import Dense #Dense是上下層緊密連結的神經網路層"
   ]
  },
  {
   "cell_type": "code",
   "execution_count": 8,
   "metadata": {},
   "outputs": [],
   "source": [
    "#建立訓練和測試資料\n",
    "(train_feature, train_label), (test_feature, test_label) = mnist.load_data()\n",
    "\n",
    "#將訓練特徵值轉換為784個float數字的1維向量\n",
    "train_feature_vector =train_feature.reshape(len(train_feature), 784).astype('float32')\n",
    "test_feature_vector = test_feature.reshape(len( test_feature), 784).astype('float32')\n",
    "\n",
    "#將訓練特徵值標準化\n",
    "train_feature_normalize = train_feature_vector/255\n",
    "test_feature_normalize = test_feature_vector/255\n",
    "\n",
    "#將真實值轉換成one-hot-encoding\n",
    "train_label_onehot = np_utils.to_categorical(train_label)\n",
    "test_label_onehot = np_utils.to_categorical(test_label)"
   ]
  },
  {
   "cell_type": "code",
   "execution_count": 9,
   "metadata": {},
   "outputs": [
    {
     "name": "stdout",
     "output_type": "stream",
     "text": [
      "Train on 48000 samples, validate on 12000 samples\n",
      "Epoch 1/10\n",
      " - 1s - loss: 0.4378 - acc: 0.8830 - val_loss: 0.2180 - val_acc: 0.9407\n",
      "Epoch 2/10\n",
      " - 1s - loss: 0.1908 - acc: 0.9455 - val_loss: 0.1555 - val_acc: 0.9559\n",
      "Epoch 3/10\n",
      " - 1s - loss: 0.1353 - acc: 0.9616 - val_loss: 0.1257 - val_acc: 0.9651\n",
      "Epoch 4/10\n",
      " - 1s - loss: 0.1026 - acc: 0.9701 - val_loss: 0.1121 - val_acc: 0.9677\n",
      "Epoch 5/10\n",
      " - 1s - loss: 0.0810 - acc: 0.9773 - val_loss: 0.0982 - val_acc: 0.9716\n",
      "Epoch 6/10\n",
      " - 1s - loss: 0.0659 - acc: 0.9819 - val_loss: 0.0938 - val_acc: 0.9724\n",
      "Epoch 7/10\n",
      " - 1s - loss: 0.0543 - acc: 0.9852 - val_loss: 0.0909 - val_acc: 0.9744\n",
      "Epoch 8/10\n",
      " - 1s - loss: 0.0459 - acc: 0.9877 - val_loss: 0.0827 - val_acc: 0.9761\n",
      "Epoch 9/10\n",
      " - 1s - loss: 0.0380 - acc: 0.9904 - val_loss: 0.0818 - val_acc: 0.9762\n",
      "Epoch 10/10\n",
      " - 1s - loss: 0.0316 - acc: 0.9917 - val_loss: 0.0807 - val_acc: 0.9760\n",
      "10000/10000 [==============================] - 0s 14us/step\n",
      "\n",
      "準確率= 0.976\n"
     ]
    }
   ],
   "source": [
    "#建立模型\n",
    "model = Sequential()  \n",
    "\n",
    "#add可以增加輸入層和隱藏層\n",
    "model.add(Dense(units=256,  #輸入層：784, 隱藏層：256\n",
    "                input_dim=784, \n",
    "                kernel_initializer='normal', # 使用常態分佈的亂數初始化weight和bias\n",
    "                activation='relu')) #激勵函式\n",
    "model.add(Dense(units=10,  #輸出層：10\n",
    "                kernel_initializer='normal', \n",
    "                activation='softmax'))#激勵函式\n",
    "\n",
    "#compile用來定義以下三者方法\n",
    "model.compile(loss='categorical_crossentropy',  #損失函數誤差值(越小準確越高)\n",
    "              optimizer='adam', #最佳化方法\n",
    "              metrics=['accuracy']) #評估準確率的方法\n",
    "\n",
    "#fit用來進行訓練，設定訓練資料和標籤\n",
    "model.fit(\n",
    "          x=train_feature_normalize, #特徵值\n",
    "          y=train_label_onehot, #標記值\n",
    "          validation_split=0.2, #驗證資料百分比(保留20%當作測試，80%作為訓練)\n",
    "          epochs=10, #訓練次數 (default=1)\n",
    "          batch_size=200, #每批次讀取多少筆資料\n",
    "          verbose=2 #設定是否顯示訓練過程，0不顯示，1詳細顯示，2簡易顯示\n",
    "         )\n",
    "\n",
    "#evaluate可以評估模型損失函式誤差值和準確率，他會傳回串列，第一元素為誤差值，第二元素為準確率\n",
    "scores = model.evaluate(test_feature_normalize, test_label_onehot)  #評估準確率\n",
    "print('\\n準確率=',scores[1])"
   ]
  },
  {
   "cell_type": "code",
   "execution_count": 11,
   "metadata": {},
   "outputs": [
    {
     "name": "stdout",
     "output_type": "stream",
     "text": [
      "Mnist_mlp_model.h5 模型儲存完畢!\n"
     ]
    }
   ],
   "source": [
    "model.save('Mnist_mlp_model.h5')\n",
    "print(\"Mnist_mlp_model.h5 模型儲存完畢!\")"
   ]
  },
  {
   "cell_type": "code",
   "execution_count": null,
   "metadata": {},
   "outputs": [],
   "source": []
  }
 ],
 "metadata": {
  "kernelspec": {
   "display_name": "Python 3",
   "language": "python",
   "name": "python3"
  },
  "language_info": {
   "codemirror_mode": {
    "name": "ipython",
    "version": 3
   },
   "file_extension": ".py",
   "mimetype": "text/x-python",
   "name": "python",
   "nbconvert_exporter": "python",
   "pygments_lexer": "ipython3",
   "version": "3.6.5"
  }
 },
 "nbformat": 4,
 "nbformat_minor": 2
}
