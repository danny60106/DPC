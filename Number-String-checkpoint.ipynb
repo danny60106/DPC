{
 "cells": [
  {
   "cell_type": "code",
   "execution_count": 2,
   "metadata": {},
   "outputs": [
    {
     "name": "stdout",
     "output_type": "stream",
     "text": [
      "9\n",
      "-3\n",
      "18\n",
      "0.5\n",
      "0\n",
      "729\n",
      "3\n",
      "4\n"
     ]
    }
   ],
   "source": [
    "#數字運算\n",
    "x=3+6\n",
    "print(x)\n",
    "x=3-6\n",
    "print(x)\n",
    "x=3*6\n",
    "print(x)\n",
    "x=3/6\n",
    "print(x)\n",
    "x=3//6 #整數除法\n",
    "print(x)\n",
    "x=3**6 #次方\n",
    "print(x)\n",
    "x=3%6  #取餘數\n",
    "print(x)\n",
    "x+=1\n",
    "print(x)"
   ]
  },
  {
   "cell_type": "code",
   "execution_count": 3,
   "metadata": {},
   "outputs": [
    {
     "name": "stdout",
     "output_type": "stream",
     "text": [
      "Hello\n",
      "Hel\"lo\n",
      "HelloWorld\n",
      "Hello\n",
      "World\n",
      "Hello \n",
      "\n",
      " World\n",
      "l\n",
      "ell\n",
      "llo\n",
      "Hell\n"
     ]
    }
   ],
   "source": [
    "#字串運算 也可使用單引號'\n",
    "s=\"Hello\"\n",
    "print(s)\n",
    "s=\"Hel\\\"lo\"\n",
    "print(s)\n",
    "s=\"Hello\"+\"World\"\n",
    "print(s)\n",
    "s=\"Hello\\n\"+\"World\" \n",
    "print(s)\n",
    "#多行文字\n",
    "s=\"\"\"Hello \n",
    "\n",
    " World\"\"\"  \n",
    "print(s)\n",
    "s=\"Hello\"\n",
    "#字串會對內部的字元編號(索引)，從0開始\n",
    "print(s[2])#\n",
    "s=\"Hello\"\n",
    "print(s[1:4])\n",
    "s=\"Hello\"\n",
    "print(s[2:])\n",
    "s=\"Hello\"\n",
    "print(s[:4])"
   ]
  },
  {
   "cell_type": "code",
   "execution_count": null,
   "metadata": {},
   "outputs": [],
   "source": []
  }
 ],
 "metadata": {
  "kernelspec": {
   "display_name": "Python 3",
   "language": "python",
   "name": "python3"
  },
  "language_info": {
   "codemirror_mode": {
    "name": "ipython",
    "version": 3
   },
   "file_extension": ".py",
   "mimetype": "text/x-python",
   "name": "python",
   "nbconvert_exporter": "python",
   "pygments_lexer": "ipython3",
   "version": "3.6.5"
  }
 },
 "nbformat": 4,
 "nbformat_minor": 2
}
