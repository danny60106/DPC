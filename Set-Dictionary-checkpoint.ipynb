{
 "cells": [
  {
   "cell_type": "code",
   "execution_count": 1,
   "metadata": {},
   "outputs": [
    {
     "name": "stdout",
     "output_type": "stream",
     "text": [
      "False\n",
      "True\n",
      "{4, 5}\n",
      "{3, 4, 5, 6, 7}\n",
      "{3}\n",
      "{3, 6, 7}\n"
     ]
    }
   ],
   "source": [
    "#集合的運算\n",
    "s1={3,4,5}\n",
    "s2={4,5,6,7}\n",
    "s3=s1&s2 #交集:取兩個集合中，相同的資料\n",
    "s4=s1|s2 #聯集:取兩個集合中所有的資料，但不重複取\n",
    "s5=s1-s2 #差集:從s1中,減去和s2重疊的部分\n",
    "s6=s1^s2 #反交集:取兩個集合中，不重疊的部分\n",
    "\n",
    "print(10 in s1)\n",
    "print(10 not in s1)\n",
    "\n",
    "print(s3)\n",
    "print(s4)\n",
    "print(s5)\n",
    "print(s6)"
   ]
  },
  {
   "cell_type": "code",
   "execution_count": 4,
   "metadata": {},
   "outputs": [
    {
     "name": "stdout",
     "output_type": "stream",
     "text": [
      "{'e', 'l', 'o', 'H'}\n",
      "True\n",
      "False\n"
     ]
    }
   ],
   "source": [
    "s = set(\"Hello\") #set(字串) 把字串拆解成集合\n",
    "print(s)\n",
    "print(\"H\" in s)\n",
    "print(\"s\" in s)"
   ]
  },
  {
   "cell_type": "code",
   "execution_count": 18,
   "metadata": {},
   "outputs": [
    {
     "name": "stdout",
     "output_type": "stream",
     "text": [
      "蘋果\n",
      "小蘋果\n"
     ]
    }
   ],
   "source": [
    "#字典的運算,key-value配對\n",
    "dic={\"apple\":\"蘋果\",\"bug\":\"蟲\"}\n",
    "print(dic[\"apple\"])\n",
    "dic[\"apple\"]=\"小蘋果\"\n",
    "print(dic[\"apple\"])"
   ]
  },
  {
   "cell_type": "code",
   "execution_count": 22,
   "metadata": {},
   "outputs": [
    {
     "name": "stdout",
     "output_type": "stream",
     "text": [
      "True\n",
      "False\n",
      "True\n"
     ]
    }
   ],
   "source": [
    "dic={\"apple\":\"蘋果\",\"bug\":\"蟲\"}\n",
    "print(\"apple\" in dic) #判斷key是否存在\n",
    "print(\"test\" in dic)\n",
    "print(\"test\" not in dic)"
   ]
  },
  {
   "cell_type": "code",
   "execution_count": 24,
   "metadata": {},
   "outputs": [
    {
     "name": "stdout",
     "output_type": "stream",
     "text": [
      "{'bug': '蟲'}\n"
     ]
    }
   ],
   "source": [
    "dic={\"apple\":\"蘋果\",\"bug\":\"蟲\"}\n",
    "del dic[\"apple\"] #刪除字典中的鍵值對(key-value pair)\n",
    "print(dic)"
   ]
  },
  {
   "cell_type": "code",
   "execution_count": 7,
   "metadata": {},
   "outputs": [
    {
     "name": "stdout",
     "output_type": "stream",
     "text": [
      "{3: 6, 5: 10, 4: 8}\n"
     ]
    }
   ],
   "source": [
    "dic={x:x*2 for x in [3,5,4]} #從列表的資料中產生字典\n",
    "print(dic)"
   ]
  },
  {
   "cell_type": "code",
   "execution_count": null,
   "metadata": {},
   "outputs": [],
   "source": []
  }
 ],
 "metadata": {
  "kernelspec": {
   "display_name": "Python 3",
   "language": "python",
   "name": "python3"
  },
  "language_info": {
   "codemirror_mode": {
    "name": "ipython",
    "version": 3
   },
   "file_extension": ".py",
   "mimetype": "text/x-python",
   "name": "python",
   "nbconvert_exporter": "python",
   "pygments_lexer": "ipython3",
   "version": "3.6.5"
  }
 },
 "nbformat": 4,
 "nbformat_minor": 2
}
