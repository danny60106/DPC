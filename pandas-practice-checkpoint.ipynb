{
 "cells": [
  {
   "cell_type": "code",
   "execution_count": 18,
   "metadata": {},
   "outputs": [],
   "source": [
    "#載入pandas 模組\n",
    "import pandas as pd"
   ]
  },
  {
   "cell_type": "code",
   "execution_count": 19,
   "metadata": {},
   "outputs": [
    {
     "name": "stdout",
     "output_type": "stream",
     "text": [
      "0    20\n",
      "1    10\n",
      "2    15\n",
      "dtype: int64\n"
     ]
    }
   ],
   "source": [
    "#載入Series\n",
    "data = pd.Series([20,10,15])\n",
    "print(data)"
   ]
  },
  {
   "cell_type": "code",
   "execution_count": 23,
   "metadata": {},
   "outputs": [
    {
     "name": "stdout",
     "output_type": "stream",
     "text": [
      "Max False\n",
      "Median 0.0\n",
      "0    0\n",
      "1    0\n",
      "2    0\n",
      "dtype: int32\n",
      "0    False\n",
      "1    False\n",
      "2    False\n",
      "dtype: bool\n"
     ]
    }
   ],
   "source": [
    "#基本Series 操作\n",
    "print(\"Max\",data.max())\n",
    "\n",
    "print(\"Median\",data.median())\n",
    "\n",
    "data2 = data*2\n",
    "print(data2)\n",
    "#判斷Series中的數字是否符合使用者想要的\n",
    "data = data == 20\n",
    "print(data)"
   ]
  },
  {
   "cell_type": "code",
   "execution_count": 24,
   "metadata": {},
   "outputs": [],
   "source": [
    "#建立DataFrame\n",
    "data = pd.DataFrame({\n",
    "    \"name\":[\"Amy\",\"John\",\"Bob\"],\n",
    "    \"saraly\":[30000,50000,40000]\n",
    "})"
   ]
  },
  {
   "cell_type": "code",
   "execution_count": 30,
   "metadata": {},
   "outputs": [
    {
     "name": "stdout",
     "output_type": "stream",
     "text": [
      "   name  saraly\n",
      "0   Amy   30000\n",
      "1  John   50000\n",
      "2   Bob   40000\n",
      "0    30000\n",
      "1    50000\n",
      "2    40000\n",
      "Name: saraly, dtype: int64\n"
     ]
    }
   ],
   "source": [
    "#基本DataFrame 操作\n",
    "print(data)\n",
    "#取得特定的欄位\n",
    "print(data[\"saraly\"])"
   ]
  },
  {
   "cell_type": "code",
   "execution_count": 32,
   "metadata": {},
   "outputs": [
    {
     "name": "stdout",
     "output_type": "stream",
     "text": [
      "   name  saraly\n",
      "0   Amy   30000\n",
      "1  John   50000\n",
      "2   Bob   40000\n",
      "==========\n",
      "name       John\n",
      "saraly    50000\n",
      "Name: 1, dtype: object\n"
     ]
    }
   ],
   "source": [
    "#取得特定的列\n",
    "print(data)\n",
    "print(\"==========\")\n",
    "print(data.iloc[1]) #印出第二列"
   ]
  },
  {
   "cell_type": "code",
   "execution_count": null,
   "metadata": {},
   "outputs": [],
   "source": []
  }
 ],
 "metadata": {
  "kernelspec": {
   "display_name": "Python 3",
   "language": "python",
   "name": "python3"
  },
  "language_info": {
   "codemirror_mode": {
    "name": "ipython",
    "version": 3
   },
   "file_extension": ".py",
   "mimetype": "text/x-python",
   "name": "python",
   "nbconvert_exporter": "python",
   "pygments_lexer": "ipython3",
   "version": "3.6.5"
  }
 },
 "nbformat": 4,
 "nbformat_minor": 2
}
